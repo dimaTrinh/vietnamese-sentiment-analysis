{
 "metadata": {
  "language_info": {
   "codemirror_mode": {
    "name": "ipython",
    "version": 3
   },
   "file_extension": ".py",
   "mimetype": "text/x-python",
   "name": "python",
   "nbconvert_exporter": "python",
   "pygments_lexer": "ipython3",
   "version": "3.7.9-final"
  },
  "orig_nbformat": 2,
  "kernelspec": {
   "name": "python3",
   "display_name": "Python 3"
  }
 },
 "nbformat": 4,
 "nbformat_minor": 2,
 "cells": [
  {
   "cell_type": "code",
   "execution_count": 1,
   "metadata": {},
   "outputs": [],
   "source": [
    "import pandas as pd"
   ]
  },
  {
   "cell_type": "code",
   "execution_count": 2,
   "metadata": {},
   "outputs": [
    {
     "output_type": "execute_result",
     "data": {
      "text/plain": [
       "             id  label                                             review\n",
       "0  train_000000      0  \"Dung dc sp tot cam on shop Đóng gói sản phẩm ...\n",
       "1  train_000001      0  \" Chất lượng sản phẩm tuyệt vời   Son mịn nhưn...\n",
       "2  train_000002      0  \" Chất lượng sản phẩm tuyệt vời nhưng k có hộp...\n",
       "3  train_000003      1  \":(( Mình hơi thất vọng 1 chút vì mình đã kỳ v...\n",
       "4  train_000004      1  \"Lần trước mình mua áo gió màu hồng rất ok mà ..."
      ],
      "text/html": "<div>\n<style scoped>\n    .dataframe tbody tr th:only-of-type {\n        vertical-align: middle;\n    }\n\n    .dataframe tbody tr th {\n        vertical-align: top;\n    }\n\n    .dataframe thead th {\n        text-align: right;\n    }\n</style>\n<table border=\"1\" class=\"dataframe\">\n  <thead>\n    <tr style=\"text-align: right;\">\n      <th></th>\n      <th>id</th>\n      <th>label</th>\n      <th>review</th>\n    </tr>\n  </thead>\n  <tbody>\n    <tr>\n      <th>0</th>\n      <td>train_000000</td>\n      <td>0</td>\n      <td>\"Dung dc sp tot cam on shop Đóng gói sản phẩm ...</td>\n    </tr>\n    <tr>\n      <th>1</th>\n      <td>train_000001</td>\n      <td>0</td>\n      <td>\" Chất lượng sản phẩm tuyệt vời   Son mịn nhưn...</td>\n    </tr>\n    <tr>\n      <th>2</th>\n      <td>train_000002</td>\n      <td>0</td>\n      <td>\" Chất lượng sản phẩm tuyệt vời nhưng k có hộp...</td>\n    </tr>\n    <tr>\n      <th>3</th>\n      <td>train_000003</td>\n      <td>1</td>\n      <td>\":(( Mình hơi thất vọng 1 chút vì mình đã kỳ v...</td>\n    </tr>\n    <tr>\n      <th>4</th>\n      <td>train_000004</td>\n      <td>1</td>\n      <td>\"Lần trước mình mua áo gió màu hồng rất ok mà ...</td>\n    </tr>\n  </tbody>\n</table>\n</div>"
     },
     "metadata": {},
     "execution_count": 2
    }
   ],
   "source": [
    "df = pd.read_csv(\"../data/before_split/train.csv\")\n",
    "df.loc[pd.isna(df.review),'review']='NA'\n",
    "df.head()"
   ]
  },
  {
   "cell_type": "code",
   "execution_count": 3,
   "metadata": {},
   "outputs": [
    {
     "output_type": "execute_result",
     "data": {
      "text/plain": [
       "(16073, 3)"
      ]
     },
     "metadata": {},
     "execution_count": 3
    }
   ],
   "source": [
    "df.shape"
   ]
  },
  {
   "cell_type": "code",
   "execution_count": 4,
   "metadata": {},
   "outputs": [],
   "source": [
    "train_split = df.sample(frac=0.7,random_state=200)\n",
    "test_split = df.drop(train_split.index)"
   ]
  },
  {
   "cell_type": "code",
   "execution_count": 5,
   "metadata": {},
   "outputs": [
    {
     "output_type": "execute_result",
     "data": {
      "text/plain": [
       "(11251, 3)"
      ]
     },
     "metadata": {},
     "execution_count": 5
    }
   ],
   "source": [
    "train_split.shape"
   ]
  },
  {
   "cell_type": "code",
   "execution_count": 6,
   "metadata": {},
   "outputs": [
    {
     "output_type": "execute_result",
     "data": {
      "text/plain": [
       "(4822, 3)"
      ]
     },
     "metadata": {},
     "execution_count": 6
    }
   ],
   "source": [
    "test_split.shape\n"
   ]
  },
  {
   "cell_type": "code",
   "execution_count": 7,
   "metadata": {},
   "outputs": [
    {
     "output_type": "execute_result",
     "data": {
      "text/plain": [
       "                 id  label                                             review\n",
       "15395  train_015409      0  \"Ối zời ơi, ngon quá xá luôn Ngon ngoài sức tư...\n",
       "12865  train_012871      1  \"cho hỏi shop hàng  mình nhận được  roi   nhưn...\n",
       "11574  train_011577      0                               \"Rẻ mà đẹp rất ok \" \n",
       "2987   train_002987      1  \"Sách in thiếu chữ nửa trang giấy có các trang...\n",
       "4779   train_004779      1  \"Mới bỏ vào máy giặt có 1 lần đã hư rồi  Chất ..."
      ],
      "text/html": "<div>\n<style scoped>\n    .dataframe tbody tr th:only-of-type {\n        vertical-align: middle;\n    }\n\n    .dataframe tbody tr th {\n        vertical-align: top;\n    }\n\n    .dataframe thead th {\n        text-align: right;\n    }\n</style>\n<table border=\"1\" class=\"dataframe\">\n  <thead>\n    <tr style=\"text-align: right;\">\n      <th></th>\n      <th>id</th>\n      <th>label</th>\n      <th>review</th>\n    </tr>\n  </thead>\n  <tbody>\n    <tr>\n      <th>15395</th>\n      <td>train_015409</td>\n      <td>0</td>\n      <td>\"Ối zời ơi, ngon quá xá luôn Ngon ngoài sức tư...</td>\n    </tr>\n    <tr>\n      <th>12865</th>\n      <td>train_012871</td>\n      <td>1</td>\n      <td>\"cho hỏi shop hàng  mình nhận được  roi   nhưn...</td>\n    </tr>\n    <tr>\n      <th>11574</th>\n      <td>train_011577</td>\n      <td>0</td>\n      <td>\"Rẻ mà đẹp rất ok \"</td>\n    </tr>\n    <tr>\n      <th>2987</th>\n      <td>train_002987</td>\n      <td>1</td>\n      <td>\"Sách in thiếu chữ nửa trang giấy có các trang...</td>\n    </tr>\n    <tr>\n      <th>4779</th>\n      <td>train_004779</td>\n      <td>1</td>\n      <td>\"Mới bỏ vào máy giặt có 1 lần đã hư rồi  Chất ...</td>\n    </tr>\n  </tbody>\n</table>\n</div>"
     },
     "metadata": {},
     "execution_count": 7
    }
   ],
   "source": [
    "train_split.head()"
   ]
  },
  {
   "cell_type": "code",
   "execution_count": 8,
   "metadata": {},
   "outputs": [],
   "source": [
    "train_split.to_csv(\"../data/train.csv\")\n",
    "test_split.to_csv(\"../data/test.csv\")"
   ]
  }
 ]
}